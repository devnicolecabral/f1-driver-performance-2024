{
 "cells": [
  {
   "cell_type": "markdown",
   "id": "60a176db",
   "metadata": {},
   "source": [
    "# 🏎️ Análise de Voltas Rápidas - Temporada 2024\n",
    "\n",
    "📍 *Notebook 04: Análise de Voltas Rápidas*\n",
    "\n",
    "Neste notebook, vamos analisar as **voltas rápidas** da temporada 2024, identificando quais pilotos conseguiram registrar os melhores tempos de volta em cada corrida.\n",
    "\n",
    "Serão realizadas as seguintes etapas:\n",
    "1. Importar os dados das corridas e dos resultados das voltas rápidas.\n",
    "2. Juntar os dados de voltas rápidas com as informações de pilotos e equipes.\n",
    "3. Analisar os pilotos com mais voltas rápidas e a frequência com que conseguiram esse feito.\n",
    "4. Visualizar as informações de voltas rápidas com gráficos.\n",
    "\n",
    "Essa análise é interessante porque nos mostra quais pilotos têm o ritmo mais forte e a capacidade de superar as condições de pista para estabelecer a volta mais rápida.\n",
    "\n"
   ]
  },
  {
   "cell_type": "code",
   "execution_count": 1,
   "id": "e838c817",
   "metadata": {},
   "outputs": [],
   "source": [
    "import pandas as pd\n",
    "import matplotlib.pyplot as plt\n",
    "import seaborn as sns"
   ]
  },
  {
   "cell_type": "markdown",
   "id": "a7ab14f6",
   "metadata": {},
   "source": [
    "# 1. Estilo dos gráficos "
   ]
  },
  {
   "cell_type": "code",
   "execution_count": 2,
   "id": "5db6a02a",
   "metadata": {},
   "outputs": [],
   "source": [
    "sns.set(style='darkgrid')\n",
    "plt.rcParams['figure.figsize'] = (12, 6)"
   ]
  },
  {
   "cell_type": "markdown",
   "id": "c7870f1e",
   "metadata": {},
   "source": [
    "# 2. Lendo os dados de resultados das voltas rápidas e de pilotos"
   ]
  },
  {
   "cell_type": "code",
   "execution_count": 6,
   "id": "f069d23e",
   "metadata": {},
   "outputs": [],
   "source": [
    "sprint_results_2024 = pd.read_csv('../data_filtrada/sprint_results_2024.csv')\n",
    "lap_times_2024 = pd.read_csv('../data_filtrada/lap_times_2024.csv')\n",
    "drivers = pd.read_csv('../data/drivers.csv')\n",
    "constructors = pd.read_csv('../data/constructors.csv')\n",
    "races_2024 = pd.read_csv('../data_filtrada/races_2024.csv')"
   ]
  },
  {
   "cell_type": "markdown",
   "id": "884628bc",
   "metadata": {},
   "source": [
    "# 3. Preparando os dados"
   ]
  },
  {
   "cell_type": "code",
   "execution_count": 8,
   "id": "b8156db0",
   "metadata": {},
   "outputs": [],
   "source": [
    "# Encontrar a volta mais rápida de cada corrida\n",
    "voltas_mais_rapidas = lap_times_2024.loc[lap_times_2024.groupby('raceId')['milliseconds'].idxmin()]\n",
    "\n",
    "# Juntar com os dados de pilotos\n",
    "voltas_rapidas_completas = voltas_mais_rapidas.merge(drivers, on='driverId', how='left')\n",
    "\n",
    "# Juntar com os dados das corridas\n",
    "voltas_rapidas_completas = voltas_rapidas_completas.merge(races_2024, on='raceId', how='left')"
   ]
  },
  {
   "cell_type": "markdown",
   "id": "f74b9f01",
   "metadata": {},
   "source": [
    "# 4. Analisando as voltas rápidas"
   ]
  },
  {
   "cell_type": "code",
   "execution_count": 9,
   "id": "ab7d2d54",
   "metadata": {},
   "outputs": [
    {
     "data": {
      "text/html": [
       "<div>\n",
       "<style scoped>\n",
       "    .dataframe tbody tr th:only-of-type {\n",
       "        vertical-align: middle;\n",
       "    }\n",
       "\n",
       "    .dataframe tbody tr th {\n",
       "        vertical-align: top;\n",
       "    }\n",
       "\n",
       "    .dataframe thead th {\n",
       "        text-align: right;\n",
       "    }\n",
       "</style>\n",
       "<table border=\"1\" class=\"dataframe\">\n",
       "  <thead>\n",
       "    <tr style=\"text-align: right;\">\n",
       "      <th></th>\n",
       "      <th>Piloto</th>\n",
       "      <th>Voltas rápidas</th>\n",
       "    </tr>\n",
       "  </thead>\n",
       "  <tbody>\n",
       "    <tr>\n",
       "      <th>0</th>\n",
       "      <td>Norris</td>\n",
       "      <td>6</td>\n",
       "    </tr>\n",
       "    <tr>\n",
       "      <th>1</th>\n",
       "      <td>Verstappen</td>\n",
       "      <td>3</td>\n",
       "    </tr>\n",
       "    <tr>\n",
       "      <th>2</th>\n",
       "      <td>Leclerc</td>\n",
       "      <td>3</td>\n",
       "    </tr>\n",
       "    <tr>\n",
       "      <th>3</th>\n",
       "      <td>Alonso</td>\n",
       "      <td>2</td>\n",
       "    </tr>\n",
       "    <tr>\n",
       "      <th>4</th>\n",
       "      <td>Hamilton</td>\n",
       "      <td>2</td>\n",
       "    </tr>\n",
       "    <tr>\n",
       "      <th>5</th>\n",
       "      <td>Russell</td>\n",
       "      <td>2</td>\n",
       "    </tr>\n",
       "    <tr>\n",
       "      <th>6</th>\n",
       "      <td>Piastri</td>\n",
       "      <td>1</td>\n",
       "    </tr>\n",
       "    <tr>\n",
       "      <th>7</th>\n",
       "      <td>Sainz</td>\n",
       "      <td>1</td>\n",
       "    </tr>\n",
       "    <tr>\n",
       "      <th>8</th>\n",
       "      <td>Pérez</td>\n",
       "      <td>1</td>\n",
       "    </tr>\n",
       "    <tr>\n",
       "      <th>9</th>\n",
       "      <td>Ricciardo</td>\n",
       "      <td>1</td>\n",
       "    </tr>\n",
       "  </tbody>\n",
       "</table>\n",
       "</div>"
      ],
      "text/plain": [
       "       Piloto  Voltas rápidas\n",
       "0      Norris               6\n",
       "1  Verstappen               3\n",
       "2     Leclerc               3\n",
       "3      Alonso               2\n",
       "4    Hamilton               2\n",
       "5     Russell               2\n",
       "6     Piastri               1\n",
       "7       Sainz               1\n",
       "8       Pérez               1\n",
       "9   Ricciardo               1"
      ]
     },
     "execution_count": 9,
     "metadata": {},
     "output_type": "execute_result"
    }
   ],
   "source": [
    "# Contando o número de voltas por piloto \n",
    "voltas_rapidas_por_piloto = voltas_rapidas_completas['surname'].value_counts().reset_index()\n",
    "voltas_rapidas_por_piloto.columns = ['Piloto', 'Voltas rápidas']\n",
    "\n",
    "# Os 10 primeiros com voltas mais rápidas\n",
    "voltas_rapidas_por_piloto.head(10)\n"
   ]
  },
  {
   "cell_type": "code",
   "execution_count": 12,
   "id": "a269a013",
   "metadata": {},
   "outputs": [
    {
     "name": "stderr",
     "output_type": "stream",
     "text": [
      "C:\\Users\\nicol\\AppData\\Local\\Temp\\ipykernel_25536\\184128019.py:2: FutureWarning: \n",
      "\n",
      "Passing `palette` without assigning `hue` is deprecated and will be removed in v0.14.0. Assign the `y` variable to `hue` and set `legend=False` for the same effect.\n",
      "\n",
      "  sns.barplot(data=voltas_rapidas_por_piloto, x='Voltas rápidas', y='Piloto', palette='Blues_d')\n"
     ]
    },
    {
     "data": {
      "image/png": "[encoded data removed]",
      "text/plain": [
       "<Figure size 1200x600 with 1 Axes>"
      ]
     },
     "metadata": {},
     "output_type": "display_data"
    }
   ],
   "source": [
    "plt.figure(figsize=(12, 6))\n",
    "sns.barplot(data=voltas_rapidas_por_piloto, x='Voltas rápidas', y='Piloto', palette='Blues_d')\n",
    "plt.title('Voltas rápidas - Temporada de 2024', fontsize = 16)\n",
    "plt.xlabel=('Número de voltas rápidas')\n",
    "plt.ylabel=('Piloto')\n",
    "plt.tight_layout()\n",
    "plt.show()\n"
   ]
  },
  {
   "cell_type": "markdown",
   "id": "c8efd6b6",
   "metadata": {},
   "source": [
    "# 5. Conclusão\n",
    "\n",
    "Neste notebook, analisei as **voltas rápidas** da temporada de 2024, identificando quais pilotos conseguiram registrar as melhores voltas em cada corrida. Criei um gráfico para visualizar os pilotos que mais se destacaram nessa categoria.\n",
    "\n",
    "- Alguns pilotos se destacaram com mais voltas rápidas, mostrando um desempenho consistente durante a temporada.\n",
    "-  Esse tipo de análise é útil para entender não apenas a performance de corrida, mas também a habilidade dos pilotos em maximizar suas voltas rápidas.\n",
    "\n",
    "👉 **Próximo passo:** `05_analise_de_pit_stops_2024.ipynb`"
   ]
  }
 ],
 "metadata": {
  "kernelspec": {
   "display_name": "venv",
   "language": "python",
   "name": "python3"
  },
  "language_info": {
   "codemirror_mode": {
    "name": "ipython",
    "version": 3
   },
   "file_extension": ".py",
   "mimetype": "text/x-python",
   "name": "python",
   "nbconvert_exporter": "python",
   "pygments_lexer": "ipython3",
   "version": "3.12.5"
  }
 },
 "nbformat": 4,
 "nbformat_minor": 5
}
