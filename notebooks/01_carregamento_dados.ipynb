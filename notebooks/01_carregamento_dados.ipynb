{
 "cells": [
  {
   "cell_type": "markdown",
   "id": "6fdaaa1b",
   "metadata": {},
   "source": [
    "# 🏎️ Análise de Dados da Fórmula 1 - Temporada 2024\n",
    "\n",
    "📍 *Notebook 01: Carregamento e Visão Geral dos Dados*\n",
    "\n",
    "Neste notebook, vamos importar e explorar os dados disponíveis da temporada 2024 da Fórmula 1.  \n",
    "Este é o primeiro passo para uma série de análises que buscam entender o desempenho dos pilotos e equipes ao longo do campeonato.\n"
   ]
  },
  {
   "cell_type": "code",
   "execution_count": 9,
   "id": "8db2dc2b",
   "metadata": {},
   "outputs": [],
   "source": [
    "import pandas as pd\n",
    "import matplotlib.pyplot as plt\n",
    "import seaborn as sns\n",
    "import os"
   ]
  },
  {
   "cell_type": "code",
   "execution_count": 10,
   "id": "f3bf755c",
   "metadata": {},
   "outputs": [],
   "source": [
    "pd.set_option('display.max_columns', None)\n",
    "sns.set(style=\"whitegrid\")"
   ]
  },
  {
   "cell_type": "markdown",
   "id": "5c282c8c",
   "metadata": {},
   "source": [
    "## 1. Carregamento dos datasets\n",
    "\n",
    "Todos os arquivos estão localizados na pasta `data/`.  \n",
    "Vamos carregar os principais arquivos CSV disponíveis no dataset.\n"
   ]
  },
  {
   "cell_type": "code",
   "execution_count": 11,
   "id": "be4d41eb",
   "metadata": {},
   "outputs": [],
   "source": [
    "circuits = pd.read_csv('../data/circuits.csv')\n",
    "constructors = pd.read_csv('../data/constructors.csv')\n",
    "constructor_results = pd.read_csv('../data/constructor_results.csv')\n",
    "constructor_standings = pd.read_csv('../data/constructor_standings.csv')\n",
    "drivers = pd.read_csv('../data/drivers.csv')\n",
    "driver_standings = pd.read_csv('../data/driver_standings.csv')\n",
    "lap_times = pd.read_csv('../data/lap_times.csv')\n",
    "pit_stops = pd.read_csv('../data/pit_stops.csv')\n",
    "qualifying = pd.read_csv('../data/qualifying.csv')\n",
    "races = pd.read_csv('../data/races.csv')\n",
    "results = pd.read_csv('../data/results.csv')\n",
    "seasons = pd.read_csv('../data/seasons.csv')\n",
    "sprint_results = pd.read_csv('../data/sprint_results.csv')\n",
    "status = pd.read_csv('../data/status.csv')"
   ]
  },
  {
   "cell_type": "markdown",
   "id": "1dc8547f",
   "metadata": {},
   "source": [
    "## 2. Filtrar apenas dados da temporada de 2024"
   ]
  },
  {
   "cell_type": "code",
   "execution_count": 12,
   "id": "32eccd16",
   "metadata": {},
   "outputs": [],
   "source": [
    "# Verificando as datas disponíveis\n",
    "races['date'] = pd.to_datetime(races['date'])\n",
    "races['year'] = races['date'].dt.year\n",
    "\n",
    "# Selecionando apenas as corridas da temporada de 2024\n",
    "races_2024 = races[races['year'] == 2024]\n",
    "\n",
    "# Pegando os IDs das corridas da temporada de 2024\n",
    "race_ids_2024 = races_2024['raceId'].unique()"
   ]
  },
  {
   "cell_type": "markdown",
   "id": "ec61cb7f",
   "metadata": {},
   "source": [
    "## 3. Filtrando os demais datasets com base na temporada de 2024"
   ]
  },
  {
   "cell_type": "code",
   "execution_count": 13,
   "id": "58a0e681",
   "metadata": {},
   "outputs": [],
   "source": [
    "results_2024 = results[results['raceId'].isin(race_ids_2024)]\n",
    "driver_standings_2024 = driver_standings[driver_standings['raceId'].isin(race_ids_2024)]\n",
    "constructor_results_2024 = constructor_results[constructor_results['raceId'].isin(race_ids_2024)]\n",
    "constructor_standings_2024 = constructor_standings[constructor_standings['raceId'].isin(race_ids_2024)]\n",
    "lap_times_2024 = lap_times[lap_times['raceId'].isin(race_ids_2024)]\n",
    "pit_stops_2024 = pit_stops[pit_stops['raceId'].isin(race_ids_2024)]\n",
    "qualifying_2024 = qualifying[qualifying['raceId'].isin(race_ids_2024)]\n",
    "sprint_results_2024 = sprint_results[sprint_results['raceId'].isin(race_ids_2024)]"
   ]
  },
  {
   "cell_type": "markdown",
   "id": "62c4de62",
   "metadata": {},
   "source": [
    "## 4. Salvando arquivos da temporada de 2024 em CSV"
   ]
  },
  {
   "cell_type": "code",
   "execution_count": 15,
   "id": "a032a3c8",
   "metadata": {},
   "outputs": [],
   "source": [
    "os.makedirs('../data_filtrada', exist_ok=True)\n",
    "\n",
    "results_2024.to_csv('../data_filtrada/results_2024.csv', index=False)\n",
    "driver_standings_2024.to_csv('../data_filtrada/driver_standings_2024.csv', index=False)\n",
    "constructor_results_2024.to_csv('../data_filtrada/constructor_results_2024.csv', index=False)\n",
    "constructor_standings_2024.to_csv('../data_filtrada/constructor_standings_2024.csv', index=False)\n",
    "lap_times_2024.to_csv('../data_filtrada/lap_times_2024.csv', index=False)\n",
    "pit_stops_2024.to_csv('../data_filtrada/pit_stops_2024.csv', index=False)\n",
    "qualifying_2024.to_csv('../data_filtrada/qualifying_2024.csv', index=False)\n",
    "sprint_results_2024.to_csv('../data_filtrada/sprint_results_2024.csv', index=False)\n",
    "races_2024.to_csv('../data_filtrada/races_2024.csv', index=False)\n"
   ]
  },
  {
   "cell_type": "markdown",
   "id": "28c951cc",
   "metadata": {},
   "source": [
    "## 5. Conclusão\n",
    "Todos os dados foram carregados e filtrados para incluir **apenas a temporada de 2024**. \n",
    "Agora podemos seguir com segurança para as análises detalhadas. \n",
    "\n",
    "Próximo passo: `02_analise_pilotos_2024.ipynb`"
   ]
  }
 ],
 "metadata": {
  "kernelspec": {
   "display_name": "venv",
   "language": "python",
   "name": "python3"
  },
  "language_info": {
   "codemirror_mode": {
    "name": "ipython",
    "version": 3
   },
   "file_extension": ".py",
   "mimetype": "text/x-python",
   "name": "python",
   "nbconvert_exporter": "python",
   "pygments_lexer": "ipython3",
   "version": "3.12.5"
  }
 },
 "nbformat": 4,
 "nbformat_minor": 5
}
