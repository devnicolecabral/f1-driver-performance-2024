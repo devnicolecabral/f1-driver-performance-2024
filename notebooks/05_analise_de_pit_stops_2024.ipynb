{
 "cells": [
  {
   "cell_type": "markdown",
   "id": "dea136e3",
   "metadata": {},
   "source": [
    "# 🏎️ Análise de Pit Stops - Temporada 2024\n",
    "\n",
    "📍 *Notebook 05: Análise de Pit Stops*\n",
    "\n",
    "Neste notebook, vamos explorar os **pit stops** realizados durante a temporada 2024, analisando os tempos médios por piloto e equipe, além de identificar os pit stops mais rápidos.\n",
    "\n",
    "Serão realidzadas as seguintes etapas:\n",
    "1. Importar os dados necessários.\n",
    "2. Filtrar os pit stops da temporada 2024.\n",
    "3. Juntar com os dados dos pilotos e equipes.\n",
    "4. Analisar os tempos médios de pit stop por piloto e por equipe.\n",
    "5. Identificar os pit stops mais rápidos.\n",
    "6. Visualizar os dados com gráficos.\n",
    "\n",
    "Essa análise ajuda a entender a eficiência das equipes nos boxes, algo crucial em corridas onde cada milésimo conta.\n",
    "\n",
    "Vamos começar!\n"
   ]
  },
  {
   "cell_type": "code",
   "execution_count": 31,
   "id": "eec0d3b9",
   "metadata": {},
   "outputs": [],
   "source": [
    "import pandas as pd\n",
    "import matplotlib.pyplot as plt\n",
    "import seaborn as sns\n",
    "import numpy as np"
   ]
  },
  {
   "cell_type": "markdown",
   "id": "bb725597",
   "metadata": {},
   "source": [
    "# 1. Estilo dos gráficos"
   ]
  },
  {
   "cell_type": "code",
   "execution_count": 32,
   "id": "ffc11a12",
   "metadata": {},
   "outputs": [],
   "source": [
    "sns.set(style='darkgrid')\n",
    "plt.rcParams['figure.figsize'] = (12, 6)\n"
   ]
  },
  {
   "cell_type": "markdown",
   "id": "140be7fb",
   "metadata": {},
   "source": [
    "# 2. Importando os dados que serão utilizados"
   ]
  },
  {
   "cell_type": "code",
   "execution_count": 33,
   "id": "e86e1101",
   "metadata": {},
   "outputs": [],
   "source": [
    "pit_stops_2024 = pd.read_csv('../data_filtrada/pit_stops_2024.csv')\n",
    "drivers = pd.read_csv('../data/drivers.csv')\n",
    "constructors = pd.read_csv('../data/constructors.csv')\n",
    "races_2024 = pd.read_csv('../data_filtrada/races_2024.csv')\n",
    "results_2024 = pd.read_csv('../data_filtrada/results_2024.csv')"
   ]
  },
  {
   "cell_type": "markdown",
   "id": "6fd55e76",
   "metadata": {},
   "source": [
    "# 3. Pré-processamento dos dados"
   ]
  },
  {
   "cell_type": "code",
   "execution_count": null,
   "id": "3f8fa188",
   "metadata": {},
   "outputs": [],
   "source": [
    "def tempo_para_segundos(tempo_str):\n",
    "    try:\n",
    "        # Verificando se o valor já é numérico (caso 22.437)\n",
    "        if isinstance(tempo_str, (int, float)):\n",
    "            return float(tempo_str)\n",
    "        \n",
    "        # Verificando se o valor está no formato de string \"minutos:segundos\"\n",
    "        if isinstance(tempo_str, str) and ':' in tempo_str:\n",
    "            minutos, segundos = tempo_str.split(':')\n",
    "            return int(minutos) * 60 + float(segundos)\n",
    "        \n",
    "        # Caso o valor não se encaixe em nenhum dos formatos, retorna NaN\n",
    "        return np.nan\n",
    "    except Exception as e:\n",
    "        print(f'Erro ao processar o valor: {tempo_str} -> {e}')\n",
    "        return np.nan\n",
    "\n",
    "# Aplicando a conversão para segundos\n",
    "pit_stops_2024['duration'] = pit_stops_2024['duration'].apply(tempo_para_segundos)\n",
    "\n",
    "# Remover linhas com valores NaN (caso algum valor não tenha sido convertido corretamente)\n",
    "pit_stops_2024 = pit_stops_2024.dropna(subset=['duration'])\n"
   ]
  },
  {
   "cell_type": "markdown",
   "id": "666c42b1",
   "metadata": {},
   "source": [
    "# 4. Junção de dados (pilotos, equipes e corridas)"
   ]
  },
  {
   "cell_type": "code",
   "execution_count": 34,
   "id": "b1c47460",
   "metadata": {},
   "outputs": [],
   "source": [
    "resultados_reduzidos = results_2024[['driverId', 'raceId', 'constructorId']]\n",
    "pit_stops_com_constructor = pit_stops_2024.merge(resultados_reduzidos, on=['driverId', 'raceId'], how='left')\n",
    "pit_completo = pit_stops_com_constructor.merge(drivers, on='driverId', how='left').merge(races_2024, on='raceId', how='left').merge(constructors, on='constructorId', how='left')"
   ]
  },
  {
   "cell_type": "markdown",
   "id": "4554459e",
   "metadata": {},
   "source": [
    "# 5. Paradas mais rápidas da temporada"
   ]
  },
  {
   "cell_type": "markdown",
   "id": "f47b11c0",
   "metadata": {},
   "source": [
    "# 6. Duração média por equipe"
   ]
  },
  {
   "cell_type": "markdown",
   "id": "bfecc549",
   "metadata": {},
   "source": [
    "# 7. Conclusão \n",
    "Neste notebook analisei os dados de **paradas nos boxes** da temporada de 2024. Identificamos: \n",
    "\n",
    "- As 10 paradas mais rápidas da temporada. \n",
    "- As equipes com menor tempo médio de parada, evidenciando aquelas que têm melhor desempenho operacional.\n",
    "\n",
    "A análise de pit stops revela o papel essencial da equipe além do piloto, mostrando como segundos podem fazer a diferença em uma corrida.\n",
    "\n",
    "👉 **Próximo passo:** `06_analise_abandonos_2024.ipynb`"
   ]
  }
 ],
 "metadata": {
  "kernelspec": {
   "display_name": "venv",
   "language": "python",
   "name": "python3"
  },
  "language_info": {
   "codemirror_mode": {
    "name": "ipython",
    "version": 3
   },
   "file_extension": ".py",
   "mimetype": "text/x-python",
   "name": "python",
   "nbconvert_exporter": "python",
   "pygments_lexer": "ipython3",
   "version": "3.12.5"
  }
 },
 "nbformat": 4,
 "nbformat_minor": 5
}
