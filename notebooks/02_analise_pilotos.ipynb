{
 "cells": [
  {
   "cell_type": "markdown",
   "id": "05334c61",
   "metadata": {},
   "source": [
    "# 🏎️ Análise de Dados da Fórmula 1 - Temporada 2024\n",
    "\n",
    "📍 *Notebook 02: Análise de Performance dos Pilotos*\n",
    "\n",
    "Neste notebook, vamos explorar a performance dos pilotos ao longo da temporada 2024.  \n",
    "Nosso objetivo é entender como cada piloto se saiu nas corridas, com base em resultados, pontuação e posições.\n"
   ]
  },
  {
   "cell_type": "code",
   "execution_count": 2,
   "id": "527aab11",
   "metadata": {},
   "outputs": [],
   "source": [
    "import pandas as pd\n",
    "import matplotlib.pyplot as plt\n",
    "import seaborn as sns\n",
    "\n",
    "# Estilo dos gráficos\n",
    "sns.set(style=\"whitegrid\")"
   ]
  },
  {
   "cell_type": "markdown",
   "id": "5eef2bba",
   "metadata": {},
   "source": [
    "## 2. Carregamento dos dados\n"
   ]
  },
  {
   "cell_type": "code",
   "execution_count": 3,
   "id": "9c58445d",
   "metadata": {},
   "outputs": [],
   "source": [
    "# Carregar os principais datasets novamente\n",
    "drivers = pd.read_csv('../data/drivers.csv')\n",
    "races = pd.read_csv('../data/races.csv')\n",
    "results = pd.read_csv('../data/results.csv')"
   ]
  },
  {
   "cell_type": "markdown",
   "id": "327d8763",
   "metadata": {},
   "source": [
    "## 3. Junção dos dados\n",
    "\n",
    "Vamos juntar os dados dos pilotos com os resultados das corridas.\n"
   ]
  },
  {
   "cell_type": "code",
   "execution_count": null,
   "id": "f274bc82",
   "metadata": {},
   "outputs": [],
   "source": []
  }
 ],
 "metadata": {
  "kernelspec": {
   "display_name": "venv",
   "language": "python",
   "name": "python3"
  },
  "language_info": {
   "codemirror_mode": {
    "name": "ipython",
    "version": 3
   },
   "file_extension": ".py",
   "mimetype": "text/x-python",
   "name": "python",
   "nbconvert_exporter": "python",
   "pygments_lexer": "ipython3",
   "version": "3.12.5"
  }
 },
 "nbformat": 4,
 "nbformat_minor": 5
}
