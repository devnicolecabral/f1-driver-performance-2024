{
 "cells": [
  {
   "cell_type": "markdown",
   "id": "05334c61",
   "metadata": {},
   "source": [
    "# 🏎️ Análise de Pontuação dos Pilotos - Temporada 2024\n",
    "\n",
    "📍 *Notebook 02: Análise de Performance dos Pilotos*\n",
    "\n",
    "Neste notebook, irei explorar a performance dos pilotos ao longo da temporada 2024.  \n",
    "O objetivo é entender como cada piloto se saiu nas corridas, com base em resultados, pontuação e posições.\n",
    "\n",
    "Serão realizadas as seguintes etapas:\n",
    "1. Carregar os dados filtrados da temporada 2024.\n",
    "2. Unificar os dados de resultados com as informações dos pilotos e equipes.\n",
    "3. Agrupar a pontuação por piloto ao longo da temporada.\n",
    "4. Visualizar os resultados em um gráfico de barras para destacar os líderes do campeonato.\n",
    "\n",
    "Essa análise dá uma visão clara de quem são os principais competidores da temporada e como cada piloto está se posicionando em relação aos demais.\n"
   ]
  },
  {
   "cell_type": "code",
   "execution_count": 1,
   "id": "90579f73",
   "metadata": {},
   "outputs": [],
   "source": [
    "import pandas as pd \n",
    "import matplotlib.pyplot as plt\n",
    "import seaborn as sns"
   ]
  },
  {
   "cell_type": "markdown",
   "id": "dafdcc99",
   "metadata": {},
   "source": [
    "## 1. Estilo dos gráficos"
   ]
  },
  {
   "cell_type": "code",
   "execution_count": 2,
   "id": "108ad01c",
   "metadata": {},
   "outputs": [],
   "source": [
    "sns.set(style='darkgrid')\n",
    "plt.rcParams[\"figure.figsize\"] = (12, 6)"
   ]
  },
  {
   "cell_type": "markdown",
   "id": "e8ffcde4",
   "metadata": {},
   "source": [
    "## 2. Carregamento dos dados já filtrados da temporada de 2024"
   ]
  },
  {
   "cell_type": "code",
   "execution_count": 3,
   "id": "ffb199cd",
   "metadata": {},
   "outputs": [],
   "source": [
    "results_2024 = pd.read_csv('../data_filtrada/results_2024.csv')\n",
    "drivers = pd.read_csv('../data/drivers.csv')\n",
    "constructors = pd.read_csv('../data/constructors.csv')\n",
    "races_2024 = pd.read_csv('../data_filtrada/races_2024.csv')"
   ]
  },
  {
   "cell_type": "markdown",
   "id": "0717d200",
   "metadata": {},
   "source": [
    "## 3. Unindo dados de resultados com nomes de pilotos e equipes"
   ]
  },
  {
   "cell_type": "code",
   "execution_count": 4,
   "id": "f11aae8e",
   "metadata": {},
   "outputs": [],
   "source": [
    "resultados_completos = (\n",
    "    results_2024\n",
    "    .merge(drivers, on='driverId', how='left')\n",
    "    .merge(constructors, on='constructorId', how='left')\n",
    ")"
   ]
  },
  {
   "cell_type": "markdown",
   "id": "6ac05cbf",
   "metadata": {},
   "source": [
    "## 4. Calculando pontuação total por piloto"
   ]
  },
  {
   "cell_type": "code",
   "execution_count": 5,
   "id": "fe44e7c7",
   "metadata": {},
   "outputs": [],
   "source": [
    "pontuacao_pilotos = (\n",
    "    resultados_completos.groupby('surname')['points'].sum().sort_values(ascending=False).reset_index()\n",
    ")"
   ]
  },
  {
   "cell_type": "markdown",
   "id": "5083ca72",
   "metadata": {},
   "source": [
    "## 5. Visualização dos 10 pilotos com mais pontos"
   ]
  },
  {
   "cell_type": "code",
   "execution_count": 6,
   "id": "f905428d",
   "metadata": {},
   "outputs": [
    {
     "data": {
      "text/html": [
       "<div>\n",
       "<style scoped>\n",
       "    .dataframe tbody tr th:only-of-type {\n",
       "        vertical-align: middle;\n",
       "    }\n",
       "\n",
       "    .dataframe tbody tr th {\n",
       "        vertical-align: top;\n",
       "    }\n",
       "\n",
       "    .dataframe thead th {\n",
       "        text-align: right;\n",
       "    }\n",
       "</style>\n",
       "<table border=\"1\" class=\"dataframe\">\n",
       "  <thead>\n",
       "    <tr style=\"text-align: right;\">\n",
       "      <th></th>\n",
       "      <th>surname</th>\n",
       "      <th>points</th>\n",
       "    </tr>\n",
       "  </thead>\n",
       "  <tbody>\n",
       "    <tr>\n",
       "      <th>0</th>\n",
       "      <td>Verstappen</td>\n",
       "      <td>399.0</td>\n",
       "    </tr>\n",
       "    <tr>\n",
       "      <th>1</th>\n",
       "      <td>Norris</td>\n",
       "      <td>344.0</td>\n",
       "    </tr>\n",
       "    <tr>\n",
       "      <th>2</th>\n",
       "      <td>Leclerc</td>\n",
       "      <td>327.0</td>\n",
       "    </tr>\n",
       "    <tr>\n",
       "      <th>3</th>\n",
       "      <td>Piastri</td>\n",
       "      <td>265.0</td>\n",
       "    </tr>\n",
       "    <tr>\n",
       "      <th>4</th>\n",
       "      <td>Sainz</td>\n",
       "      <td>262.0</td>\n",
       "    </tr>\n",
       "    <tr>\n",
       "      <th>5</th>\n",
       "      <td>Russell</td>\n",
       "      <td>226.0</td>\n",
       "    </tr>\n",
       "    <tr>\n",
       "      <th>6</th>\n",
       "      <td>Hamilton</td>\n",
       "      <td>207.0</td>\n",
       "    </tr>\n",
       "    <tr>\n",
       "      <th>7</th>\n",
       "      <td>Pérez</td>\n",
       "      <td>138.0</td>\n",
       "    </tr>\n",
       "    <tr>\n",
       "      <th>8</th>\n",
       "      <td>Alonso</td>\n",
       "      <td>70.0</td>\n",
       "    </tr>\n",
       "    <tr>\n",
       "      <th>9</th>\n",
       "      <td>Gasly</td>\n",
       "      <td>40.0</td>\n",
       "    </tr>\n",
       "  </tbody>\n",
       "</table>\n",
       "</div>"
      ],
      "text/plain": [
       "      surname  points\n",
       "0  Verstappen   399.0\n",
       "1      Norris   344.0\n",
       "2     Leclerc   327.0\n",
       "3     Piastri   265.0\n",
       "4       Sainz   262.0\n",
       "5     Russell   226.0\n",
       "6    Hamilton   207.0\n",
       "7       Pérez   138.0\n",
       "8      Alonso    70.0\n",
       "9       Gasly    40.0"
      ]
     },
     "execution_count": 6,
     "metadata": {},
     "output_type": "execute_result"
    }
   ],
   "source": [
    "top10_pilotos = pontuacao_pilotos.head(10)\n",
    "top10_pilotos"
   ]
  },
  {
   "cell_type": "code",
   "execution_count": 8,
   "id": "8c169e31",
   "metadata": {},
   "outputs": [
    {
     "name": "stderr",
     "output_type": "stream",
     "text": [
      "C:\\Users\\nicol\\AppData\\Local\\Temp\\ipykernel_21212\\577176222.py:2: FutureWarning: \n",
      "\n",
      "Passing `palette` without assigning `hue` is deprecated and will be removed in v0.14.0. Assign the `y` variable to `hue` and set `legend=False` for the same effect.\n",
      "\n",
      "  sns.barplot(\n"
     ]
    },
    {
     "data": {
      "image/png": "[encoded data removed]",
      "text/plain": [
       "<Figure size 1200x600 with 1 Axes>"
      ]
     },
     "metadata": {},
     "output_type": "display_data"
    }
   ],
   "source": [
    "plt.figure(figsize=(12,6))\n",
    "sns.barplot(\n",
    "    data = top10_pilotos,\n",
    "    x='points',\n",
    "    y='surname',\n",
    "    palette='rocket'\n",
    ")\n",
    "\n",
    "plt.title('Top 10 pilotos com mais pontos - Temporada 2024', fontsize=16)\n",
    "plt.xlabel('Pontos')\n",
    "plt.ylabel('Piloto')\n",
    "plt.tight_layout()\n",
    "plt.show()"
   ]
  },
  {
   "cell_type": "markdown",
   "id": "c2b302a3",
   "metadata": {},
   "source": [
    "## 6. Conclusão\n",
    "\n",
    "Neste notebook, realizei a análise da pontuação dos pilotos na temporada de 2024. Com base nos dados do arquivo `results_2024.csv`, uni as informações dos pilotos e construtores para criar um DataFrame completo. Em seguida, somamos os pontos por piloto e visualizamos os resultados em um gráfico de barras ordenado.\n",
    "\n",
    "Essa análise nos permitiu identificar rapidamente quais pilotos estão se destacando até o momento na temporada atual.\n",
    "\n",
    "👉 **Próximo passo:** `03_analise_constructors_2024.ipynb`\n",
    "\n",
    "\n",
    "\n"
   ]
  }
 ],
 "metadata": {
  "kernelspec": {
   "display_name": "venv",
   "language": "python",
   "name": "python3"
  },
  "language_info": {
   "codemirror_mode": {
    "name": "ipython",
    "version": 3
   },
   "file_extension": ".py",
   "mimetype": "text/x-python",
   "name": "python",
   "nbconvert_exporter": "python",
   "pygments_lexer": "ipython3",
   "version": "3.12.5"
  }
 },
 "nbformat": 4,
 "nbformat_minor": 5
}
